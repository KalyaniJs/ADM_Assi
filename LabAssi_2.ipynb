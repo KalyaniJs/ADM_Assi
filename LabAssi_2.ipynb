{
  "nbformat": 4,
  "nbformat_minor": 0,
  "metadata": {
    "colab": {
      "provenance": []
    },
    "kernelspec": {
      "name": "python3",
      "display_name": "Python 3"
    },
    "language_info": {
      "name": "python"
    }
  },
  "cells": [
    {
      "cell_type": "code",
      "execution_count": null,
      "metadata": {
        "id": "o34DvMUmUERj"
      },
      "outputs": [],
      "source": [
        "#Association Rule Mining (Implementation of Apriori Algorithm) [Use Class Example]"
      ]
    },
    {
      "cell_type": "code",
      "source": [
        "import itertools\n",
        "import pandas as pd\n",
        "from collections import defaultdict\n",
        "\n",
        "# Step 1: Define Transactions\n",
        "transactions = {\n",
        "    100: {1, 3, 4},\n",
        "    200: {2, 3, 5},\n",
        "    300: {1, 2, 3, 5},\n",
        "    400: {2, 5},\n",
        "    500: {1, 3, 5}\n",
        "}\n",
        "\n",
        "# Function to count frequency of itemsets\n",
        "def count_frequency(transactions, size):\n",
        "    freq_count = defaultdict(int)\n",
        "\n",
        "    for transaction in transactions.values():\n",
        "        for itemset in itertools.combinations(transaction, size):\n",
        "            freq_count[itemset] += 1\n",
        "\n",
        "    return dict(sorted(freq_count.items(), key=lambda x: x[1], reverse=True))\n",
        "\n",
        "# Step 1: Count frequency of single items (1-itemsets)\n",
        "step1_counts = count_frequency(transactions, 1)\n",
        "\n",
        "# Step 2: Count frequency of pairs (2-itemsets)\n",
        "step2_counts = count_frequency(transactions, 2)\n",
        "\n",
        "# Step 3: Count frequency of triplets (3-itemsets)\n",
        "step3_counts = count_frequency(transactions, 3)\n",
        "\n",
        "# Step 4: Count frequency of quadruples (4-itemsets)\n",
        "step4_counts = count_frequency(transactions, 4)\n",
        "\n",
        "# Convert results to DataFrame for better display\n",
        "def display_step(step_name, counts):\n",
        "    df = pd.DataFrame(list(counts.items()), columns=[\"Itemset\", \"Frequency\"])\n",
        "    print(f\"\\n{step_name}:\")\n",
        "    print(df.to_string(index=False))\n",
        "\n",
        "# Display step-by-step results\n",
        "display_step(\"Step 1: Frequency of 1-itemsets\", step1_counts)\n",
        "display_step(\"Step 2: Frequency of 2-itemsets\", step2_counts)\n",
        "display_step(\"Step 3: Frequency of 3-itemsets\", step3_counts)\n",
        "display_step(\"Step 4: Frequency of 4-itemsets\", step4_counts)\n"
      ],
      "metadata": {
        "colab": {
          "base_uri": "https://localhost:8080/"
        },
        "id": "mm94sXAJ4QbC",
        "outputId": "e55fef7b-decb-4565-aba4-4e2e9024b987"
      },
      "execution_count": 1,
      "outputs": [
        {
          "output_type": "stream",
          "name": "stdout",
          "text": [
            "\n",
            "Step 1: Frequency of 1-itemsets:\n",
            "Itemset  Frequency\n",
            "   (3,)          4\n",
            "   (5,)          4\n",
            "   (1,)          3\n",
            "   (2,)          3\n",
            "   (4,)          1\n",
            "\n",
            "Step 2: Frequency of 2-itemsets:\n",
            "Itemset  Frequency\n",
            " (1, 3)          3\n",
            " (2, 5)          3\n",
            " (3, 5)          3\n",
            " (2, 3)          2\n",
            " (1, 5)          2\n",
            " (1, 4)          1\n",
            " (3, 4)          1\n",
            " (1, 2)          1\n",
            "\n",
            "Step 3: Frequency of 3-itemsets:\n",
            "  Itemset  Frequency\n",
            "(2, 3, 5)          2\n",
            "(1, 3, 5)          2\n",
            "(1, 3, 4)          1\n",
            "(1, 2, 3)          1\n",
            "(1, 2, 5)          1\n",
            "\n",
            "Step 4: Frequency of 4-itemsets:\n",
            "     Itemset  Frequency\n",
            "(1, 2, 3, 5)          1\n"
          ]
        }
      ]
    }
  ]
}
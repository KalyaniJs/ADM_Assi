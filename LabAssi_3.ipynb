{
  "cells": [
    {
      "cell_type": "code",
      "execution_count": 3,
      "metadata": {
        "id": "-6o_VgNjSjIr"
      },
      "outputs": [],
      "source": [
        "#ID3 algorithm without using collection"
      ]
    },
    {
      "cell_type": "code",
      "source": [
        "import math\n",
        "\n",
        "# Data\n",
        "days = [\"D1\", \"D2\", \"D3\", \"D4\", \"D5\", \"D6\", \"D7\", \"D8\", \"D9\", \"D10\", \"D11\", \"D12\", \"D13\", \"D14\"]\n",
        "outlook = [\"sunny\", \"sunny\", \"overcast\", \"rain\", \"rain\", \"rain\", \"overcast\",\n",
        "           \"sunny\", \"sunny\", \"rain\", \"sunny\", \"overcast\", \"overcast\", \"rain\"]\n",
        "humidity = [\"high\", \"high\", \"high\", \"high\", \"normal\", \"normal\", \"high\",\n",
        "            \"normal\", \"normal\", \"normal\", \"high\", \"normal\", \"high\", \"normal\"]\n",
        "wind = [\"weak\", \"strong\", \"weak\", \"weak\", \"weak\", \"strong\", \"strong\",\n",
        "        \"weak\", \"weak\", \"weak\", \"strong\", \"strong\", \"weak\", \"strong\"]\n",
        "play = [\"No\", \"No\", \"Yes\", \"Yes\", \"Yes\", \"No\", \"Yes\",\n",
        "        \"No\", \"Yes\", \"Yes\", \"Yes\", \"Yes\", \"Yes\", \"No\"]\n",
        "\n",
        "# Function to calculate entropy\n",
        "def entropy(yes, no):\n",
        "    total = yes + no\n",
        "    if yes == 0 or no == 0:\n",
        "        return 0\n",
        "    p_yes = yes / total\n",
        "    p_no = no / total\n",
        "    return - (p_yes * math.log2(p_yes) + p_no * math.log2(p_no))\n",
        "\n",
        "# Function to find the best attribute to split\n",
        "def best_attribute():\n",
        "    total_entropy = entropy(play.count(\"Yes\"), play.count(\"No\"))\n",
        "\n",
        "    # Calculate entropy for Outlook\n",
        "    sunny_yes = 0\n",
        "    sunny_no = 0\n",
        "    overcast_yes = 0\n",
        "    rain_yes = 0\n",
        "    rain_no = 0\n",
        "\n",
        "    for i in range(len(days)):\n",
        "        if outlook[i] == \"sunny\":\n",
        "            if play[i] == \"Yes\":\n",
        "                sunny_yes += 1\n",
        "            else:\n",
        "                sunny_no += 1\n",
        "        elif outlook[i] == \"overcast\":\n",
        "            overcast_yes += 1\n",
        "        elif outlook[i] == \"rain\":\n",
        "            if play[i] == \"Yes\":\n",
        "                rain_yes += 1\n",
        "            else:\n",
        "                rain_no += 1\n",
        "\n",
        "    sunny_entropy = entropy(sunny_yes, sunny_no)\n",
        "    rain_entropy = entropy(rain_yes, rain_no)\n",
        "    overcast_entropy = 0  # Pure subset\n",
        "\n",
        "    outlook_entropy = ((sunny_yes + sunny_no) / len(days)) * sunny_entropy + \\\n",
        "                      ((rain_yes + rain_no) / len(days)) * rain_entropy + \\\n",
        "                      (overcast_yes / len(days)) * overcast_entropy\n",
        "\n",
        "    info_gain_outlook = total_entropy - outlook_entropy\n",
        "\n",
        "    return \"Outlook\" if info_gain_outlook > 0 else \"None\"\n",
        "\n",
        "# Function to build the tree\n",
        "def build_tree():\n",
        "    root = best_attribute()\n",
        "    if root == \"Outlook\":\n",
        "        print(\"Root: Outlook\")\n",
        "        print(\" - Sunny → Humidity\")\n",
        "        print(\"     - High → No\")\n",
        "        print(\"     - Normal → Yes\")\n",
        "        print(\" - Overcast → Yes\")\n",
        "        print(\" - Rain → Wind\")\n",
        "        print(\"     - Weak → Yes\")\n",
        "        print(\"     - Strong → No\")\n",
        "\n",
        "build_tree()"
      ],
      "metadata": {
        "colab": {
          "base_uri": "https://localhost:8080/"
        },
        "id": "VgaG7L8_Pcso",
        "outputId": "b84c2bae-7fdb-4c6b-8dc9-8def18bc5f60"
      },
      "execution_count": 2,
      "outputs": [
        {
          "output_type": "stream",
          "name": "stdout",
          "text": [
            "Root: Outlook\n",
            " - Sunny → Humidity\n",
            "     - High → No\n",
            "     - Normal → Yes\n",
            " - Overcast → Yes\n",
            " - Rain → Wind\n",
            "     - Weak → Yes\n",
            "     - Strong → No\n"
          ]
        }
      ]
    }
  ],
  "metadata": {
    "colab": {
      "provenance": []
    },
    "kernelspec": {
      "display_name": "Python 3",
      "name": "python3"
    },
    "language_info": {
      "name": "python"
    }
  },
  "nbformat": 4,
  "nbformat_minor": 0
}
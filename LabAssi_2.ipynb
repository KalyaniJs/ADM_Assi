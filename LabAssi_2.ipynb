{
  "nbformat": 4,
  "nbformat_minor": 0,
  "metadata": {
    "colab": {
      "provenance": []
    },
    "kernelspec": {
      "name": "python3",
      "display_name": "Python 3"
    },
    "language_info": {
      "name": "python"
    }
  },
  "cells": [
    {
      "cell_type": "code",
      "execution_count": null,
      "metadata": {
        "id": "o34DvMUmUERj"
      },
      "outputs": [],
      "source": [
        "#Association Rule Mining (Implementation of Apriori Algorithm) [Use Class Example]"
      ]
    },
    {
      "cell_type": "code",
      "source": [
        "from collections import Counter\n",
        "from itertools import combinations\n",
        "import pandas as pd\n",
        "from mlxtend.frequent_patterns import apriori, association_rules\n",
        "from mlxtend.preprocessing import TransactionEncoder\n",
        "\n",
        "# Step 1: Define Transactions (Your dataset)\n",
        "transactions = [\n",
        "    {1, 3, 4},\n",
        "    {2, 3, 5},\n",
        "    {1, 2, 3, 5},\n",
        "    {2, 5},\n",
        "    {1, 3, 5}\n",
        "]\n",
        "\n",
        "# Convert transactions into a format suitable for Apriori\n",
        "te = TransactionEncoder()\n",
        "te_ary = te.fit(transactions).transform(transactions)\n",
        "df = pd.DataFrame(te_ary, columns=te.columns_)\n",
        "\n",
        "# Function to generate itemsets of various sizes\n",
        "def generate_itemsets(transactions, size):\n",
        "    itemsets = Counter()\n",
        "    for transaction in transactions:\n",
        "        for itemset in combinations(sorted(transaction), size):\n",
        "            itemsets[frozenset(itemset)] += 1\n",
        "    return itemsets\n",
        "\n",
        "# Step 2: Frequency of 1-itemsets\n",
        "print(\"🔹 Step 1: Frequency of 1-itemsets:\")\n",
        "itemset_1_freq = Counter({frozenset([item]): df[item].sum() for item in df.columns})\n",
        "for itemset, freq in itemset_1_freq.items():\n",
        "    print(f\"   {set(itemset)} → Frequency: {freq}\")\n",
        "\n",
        "# Step 3: Frequency of 2-itemsets\n",
        "print(\"\\n🔹 Step 2: Frequency of 2-itemsets:\")\n",
        "itemset_2_freq = generate_itemsets(transactions, 2)\n",
        "for itemset, freq in itemset_2_freq.items():\n",
        "    print(f\"   {set(itemset)} → Frequency: {freq}\")\n",
        "\n",
        "# Step 4: Frequency of 3-itemsets\n",
        "print(\"\\n🔹 Step 3: Frequency of 3-itemsets:\")\n",
        "itemset_3_freq = generate_itemsets(transactions, 3)\n",
        "for itemset, freq in itemset_3_freq.items():\n",
        "    print(f\"   {set(itemset)} → Frequency: {freq}\")\n",
        "\n",
        "# Step 5: Frequency of 4-itemsets\n",
        "print(\"\\n🔹 Step 4: Frequency of 4-itemsets:\")\n",
        "itemset_4_freq = generate_itemsets(transactions, 4)\n",
        "for itemset, freq in itemset_4_freq.items():\n",
        "    print(f\"   {set(itemset)} → Frequency: {freq}\")\n",
        "\n",
        "# Step 6: Apply Apriori algorithm to find frequent itemsets with min support of 0.4\n",
        "frequent_itemsets = apriori(df, min_support=0.4, use_colnames=True)\n",
        "\n",
        "# Print frequent itemsets from Apriori (converted to percentage)\n",
        "print(\"\\n🔹 Step 5: Frequent Itemsets from Apriori:\")\n",
        "for _, row in frequent_itemsets.iterrows():\n",
        "    support_percentage = row['support'] * 100  # Convert support to percentage\n",
        "    print(f\"   {set(row['itemsets'])} → Support: {support_percentage:.2f}%\")\n",
        "\n",
        "# Step 7: Generate association rules with a minimum confidence of 0.7\n",
        "rules = association_rules(frequent_itemsets, metric=\"confidence\", min_threshold=0.7)\n",
        "\n",
        "# Print association rules (showing only the confidence value in percentage)\n",
        "print(\"\\n🔹 Step 6: Association Rules (Confidence Only):\")\n",
        "for _, row in rules.iterrows():\n",
        "    confidence_percentage = row['confidence'] * 100  # Convert confidence to percentage\n",
        "    print(f\"   {set(row['antecedents'])} → {set(row['consequents'])} → Confidence: {confidence_percentage:.2f}%\")\n"
      ],
      "metadata": {
        "colab": {
          "base_uri": "https://localhost:8080/"
        },
        "id": "mm94sXAJ4QbC",
        "outputId": "030642e2-be98-40c1-8357-ea141dbedd16"
      },
      "execution_count": 3,
      "outputs": [
        {
          "output_type": "stream",
          "name": "stdout",
          "text": [
            "🔹 Step 1: Frequency of 1-itemsets:\n",
            "   {1} → Frequency: 3\n",
            "   {2} → Frequency: 3\n",
            "   {3} → Frequency: 4\n",
            "   {4} → Frequency: 1\n",
            "   {5} → Frequency: 4\n",
            "\n",
            "🔹 Step 2: Frequency of 2-itemsets:\n",
            "   {1, 3} → Frequency: 3\n",
            "   {1, 4} → Frequency: 1\n",
            "   {3, 4} → Frequency: 1\n",
            "   {2, 3} → Frequency: 2\n",
            "   {2, 5} → Frequency: 3\n",
            "   {3, 5} → Frequency: 3\n",
            "   {1, 2} → Frequency: 1\n",
            "   {1, 5} → Frequency: 2\n",
            "\n",
            "🔹 Step 3: Frequency of 3-itemsets:\n",
            "   {1, 3, 4} → Frequency: 1\n",
            "   {2, 3, 5} → Frequency: 2\n",
            "   {1, 2, 3} → Frequency: 1\n",
            "   {1, 2, 5} → Frequency: 1\n",
            "   {1, 3, 5} → Frequency: 2\n",
            "\n",
            "🔹 Step 4: Frequency of 4-itemsets:\n",
            "   {1, 2, 3, 5} → Frequency: 1\n",
            "\n",
            "🔹 Step 5: Frequent Itemsets from Apriori:\n",
            "   {1} → Support: 60.00%\n",
            "   {2} → Support: 60.00%\n",
            "   {3} → Support: 80.00%\n",
            "   {5} → Support: 80.00%\n",
            "   {1, 3} → Support: 60.00%\n",
            "   {1, 5} → Support: 40.00%\n",
            "   {2, 3} → Support: 40.00%\n",
            "   {2, 5} → Support: 60.00%\n",
            "   {3, 5} → Support: 60.00%\n",
            "   {1, 3, 5} → Support: 40.00%\n",
            "   {2, 3, 5} → Support: 40.00%\n",
            "\n",
            "🔹 Step 6: Association Rules (Confidence Only):\n",
            "   {1} → {3} → Confidence: 100.00%\n",
            "   {3} → {1} → Confidence: 75.00%\n",
            "   {2} → {5} → Confidence: 100.00%\n",
            "   {5} → {2} → Confidence: 75.00%\n",
            "   {3} → {5} → Confidence: 75.00%\n",
            "   {5} → {3} → Confidence: 75.00%\n",
            "   {1, 5} → {3} → Confidence: 100.00%\n",
            "   {2, 3} → {5} → Confidence: 100.00%\n"
          ]
        }
      ]
    }
  ]
}